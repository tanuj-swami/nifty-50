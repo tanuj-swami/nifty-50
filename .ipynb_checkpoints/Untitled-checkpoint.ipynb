{
 "cells": [
  {
   "cell_type": "code",
   "execution_count": 1,
   "id": "08c7d004",
   "metadata": {},
   "outputs": [
    {
     "name": "stdout",
     "output_type": "stream",
     "text": [
      "First few rows of the first file:\n",
      "         Date      Symbol Series  Prev Close    Open     High    Low   Last  \\\n",
      "0  2007-11-27  MUNDRAPORT     EQ      440.00  770.00  1050.00  770.0  959.0   \n",
      "1  2007-11-28  MUNDRAPORT     EQ      962.90  984.00   990.00  874.0  885.0   \n",
      "2  2007-11-29  MUNDRAPORT     EQ      893.90  909.00   914.75  841.0  887.0   \n",
      "3  2007-11-30  MUNDRAPORT     EQ      884.20  890.00   958.00  890.0  929.0   \n",
      "4  2007-12-03  MUNDRAPORT     EQ      921.55  939.75   995.00  922.0  980.0   \n",
      "\n",
      "    Close    VWAP    Volume      Turnover  Trades  Deliverable Volume  \\\n",
      "0  962.90  984.72  27294366  2.687719e+15     NaN             9859619   \n",
      "1  893.90  941.38   4581338  4.312765e+14     NaN             1453278   \n",
      "2  884.20  888.09   5124121  4.550658e+14     NaN             1069678   \n",
      "3  921.55  929.17   4609762  4.283257e+14     NaN             1260913   \n",
      "4  969.30  965.65   2977470  2.875200e+14     NaN              816123   \n",
      "\n",
      "   %Deliverble  \n",
      "0       0.3612  \n",
      "1       0.3172  \n",
      "2       0.2088  \n",
      "3       0.2735  \n",
      "4       0.2741  \n",
      "Error occurred while removing the directory: [WinError 32] The process cannot access the file because it is being used by another process: 'C:\\\\\\\\Users\\\\\\\\pc\\\\\\\\Desktop\\\\\\\\dataset\\\\\\\\'\n",
      "Directories created successfully.\n"
     ]
    }
   ],
   "source": [
    "import numpy as np\n",
    "import pandas as pd\n",
    "\n",
    "import os\n",
    "\n",
    "\n",
    "import shutil\n",
    "\n",
    "from sklearn.preprocessing import MinMaxScaler\n",
    "\n",
    "\n",
    "\n",
    "path = r\"C:\\\\Users\\\\pc\\\\Desktop\\\\dataset\\\\\"\n",
    "files = os.listdir(path)\n",
    "\n",
    "keep_files = []\n",
    "for file in files:\n",
    "    if file.endswith('.csv'):\n",
    "        df = pd.read_csv(os.path.join(path, file))\n",
    "        keep_files.append(file)\n",
    "\n",
    "\n",
    "len(keep_files)\n",
    "\n",
    "\n",
    "if keep_files:\n",
    "    first_file_path = os.path.join(path, keep_files[0])\n",
    "    first_df = pd.read_csv(first_file_path)\n",
    "    print(\"First few rows of the first file:\")\n",
    "    print(first_df.head())\n",
    "\n",
    "\n",
    "\n",
    "path = r\"C:\\\\Users\\\\pc\\\\Desktop\\\\dataset\\\\\"\n",
    "\n",
    "# Check if the directory exists\n",
    "if os.path.exists(path):\n",
    "    try:\n",
    "        # Attempt to remove the directory and its contents\n",
    "        shutil.rmtree(path, ignore_errors=False, onerror=None)\n",
    "        print(\"Directory removed successfully.\")\n",
    "    except Exception as e:\n",
    "        print(f\"Error occurred while removing the directory: {e}\")\n",
    "\n",
    "# Create the necessary directories\n",
    "try:\n",
    "    os.mkdir(os.path.join(path, \"stock_data\"))\n",
    "    os.mkdir(os.path.join(path, \"stock_data\", \"train_fold\"))\n",
    "    os.mkdir(os.path.join(path, \"stock_data\", \"test_fold\"))\n",
    "    print(\"Directories created successfully.\")\n",
    "except Exception as e:\n",
    "    print(f\"Error occurred while creating directories: {e}\")"
   ]
  },
  {
   "cell_type": "code",
   "execution_count": null,
   "id": "3dc3053b",
   "metadata": {},
   "outputs": [],
   "source": []
  }
 ],
 "metadata": {
  "kernelspec": {
   "display_name": "Python 3 (ipykernel)",
   "language": "python",
   "name": "python3"
  },
  "language_info": {
   "codemirror_mode": {
    "name": "ipython",
    "version": 3
   },
   "file_extension": ".py",
   "mimetype": "text/x-python",
   "name": "python",
   "nbconvert_exporter": "python",
   "pygments_lexer": "ipython3",
   "version": "3.11.0"
  }
 },
 "nbformat": 4,
 "nbformat_minor": 5
}
